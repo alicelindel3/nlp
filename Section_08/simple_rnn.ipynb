{
  "cells": [
    {
      "cell_type": "markdown",
      "metadata": {
        "id": "view-in-github",
        "colab_type": "text"
      },
      "source": [
        "<a href=\"https://colab.research.google.com/github/alicelindel3/nlp/blob/main/Section_08/simple_rnn.ipynb\" target=\"_parent\"><img src=\"https://colab.research.google.com/assets/colab-badge.svg\" alt=\"Open In Colab\"/></a>"
      ]
    },
    {
      "cell_type": "markdown",
      "metadata": {
        "id": "8L0bumThd8Ls"
      },
      "source": [
        "# シンプルなRNNの実装\n",
        "シンプルな再帰型ニューラルネットワーク（RNN）を用いて、時系列データを学習します。"
      ]
    },
    {
      "cell_type": "markdown",
      "metadata": {
        "id": "oDhWrGfxd8L2"
      },
      "source": [
        "## 訓練用データの作成\n",
        "RNNに用いる訓練用のデータを作成します。  \n",
        "サイン関数に乱数でノイズを加えたデータを作成し、過去の時系列データから未来の値を予測できるようにします。"
      ]
    },
    {
      "cell_type": "code",
      "execution_count": null,
      "metadata": {
        "id": "c9Fyx4uXd8L4"
      },
      "outputs": [],
      "source": [
        "%matplotlib inline\n",
        "\n",
        "import numpy as np\n",
        "import matplotlib.pyplot as plt\n",
        "\n",
        "x_data = np.linspace(-2*np.pi, 2*np.pi)  # -2πから2πまで\n",
        "sin_data = np.sin(x_data)  + 0.1*np.random.randn(len(x_data))  # sin関数に乱数でノイズを加える\n",
        "\n",
        "plt.plot(x_data, sin_data)\n",
        "plt.show()\n",
        "\n",
        "n_rnn = 10  # 時系列の数\n",
        "n_sample = len(x_data)-n_rnn  # サンプル数\n",
        "x = np.zeros((n_sample, n_rnn))  # 入力\n",
        "t = np.zeros((n_sample, n_rnn))  # 正解\n",
        "for i in range(0, n_sample):\n",
        "    x[i] = sin_data[i:i+n_rnn]\n",
        "    t[i] = sin_data[i+1:i+n_rnn+1]  # 時系列を入力よりも一つ後にずらす\n",
        "\n",
        "x = x.reshape(n_sample, n_rnn, 1)  # KerasにおけるRNNでは、入力を（サンプル数、時系列の数、入力層のニューロン数）にする\n",
        "print(x.shape)\n",
        "t = t.reshape(n_sample, n_rnn, 1)  # 今回は入力と同じ形状\n",
        "print(t.shape)"
      ]
    },
    {
      "cell_type": "markdown",
      "metadata": {
        "id": "i_3aw6T-d8L8"
      },
      "source": [
        "## RNNの構築\n",
        "Kerasを使ってRNNを構築します。  \n",
        "今回は、Kerasが持つRNNの中で一番シンプルなSimpleRNN層を使います。"
      ]
    },
    {
      "cell_type": "code",
      "execution_count": null,
      "metadata": {
        "id": "pucHD_krd8L9"
      },
      "outputs": [],
      "source": [
        "from keras.models import Sequential\n",
        "from keras.layers import Dense, SimpleRNN\n",
        "\n",
        "batch_size = 8  # バッチサイズ\n",
        "n_in = 1  # 入力層のニューロン数\n",
        "n_mid = 20  # 中間層のニューロン数\n",
        "n_out = 1  # 出力層のニューロン数\n",
        "\n",
        "model = Sequential()\n",
        "# SimpleRNN層の追加。return_sequenceをTrueにすると、時系列の全てのRNN層が出力を返す。\n",
        "# return_sequenceをTrueをFalseにすると、最後のRNN層のみが出力を返す。\n",
        "model.add(SimpleRNN(n_mid, input_shape=(n_rnn, n_in), return_sequences=True))\n",
        "model.add(Dense(n_out, activation=\"linear\"))\n",
        "model.compile(loss=\"mean_squared_error\", optimizer=\"sgd\")  # 誤差は二乗誤差、最適化アルゴリズムはSGD\n",
        "print(model.summary())"
      ]
    },
    {
      "cell_type": "markdown",
      "metadata": {
        "id": "4i4kVZ3id8L-"
      },
      "source": [
        "## 学習\n",
        "構築したRNNのモデルを使って、学習を行います。  "
      ]
    },
    {
      "cell_type": "code",
      "execution_count": null,
      "metadata": {
        "id": "azZn5wUwd8MC"
      },
      "outputs": [],
      "source": [
        "history = model.fit(x, t, epochs=20, batch_size=batch_size, validation_split=0.1)"
      ]
    },
    {
      "cell_type": "markdown",
      "metadata": {
        "id": "Uoxbw-tld8MD"
      },
      "source": [
        "## 学習の推移\n",
        "誤差の推移を確認します。"
      ]
    },
    {
      "cell_type": "code",
      "execution_count": null,
      "metadata": {
        "id": "FcUKZZd0d8ME"
      },
      "outputs": [],
      "source": [
        "loss = history.history['loss']\n",
        "vloss = history.history['val_loss']\n",
        "\n",
        "plt.plot(np.arange(len(loss)), loss)\n",
        "plt.plot(np.arange(len(vloss)), vloss)\n",
        "plt.show()"
      ]
    },
    {
      "cell_type": "markdown",
      "metadata": {
        "id": "S3JSsjJrd8MF"
      },
      "source": [
        "## 学習済みモデルの使用\n",
        "RNNの学習済みモデルを使って、サイン関数の次の値を予測します。"
      ]
    },
    {
      "cell_type": "code",
      "execution_count": null,
      "metadata": {
        "id": "Mbs1buVAd8MH"
      },
      "outputs": [],
      "source": [
        "predicted = x[0].reshape(-1)  # 最初の入力。reshape(-1)で一次元のベクトルにする。\n",
        "\n",
        "for i in range(0, n_sample):\n",
        "    y = model.predict(predicted[-n_rnn:].reshape(1, n_rnn, 1))  # 直近のデータを使って予測を行う\n",
        "    predicted = np.append(predicted, y[0][n_rnn-1][0])  # 出力の最後の結果をpredictedに追加する\n",
        "\n",
        "plt.plot(np.arange(len(sin_data)), sin_data, label=\"Training data\")\n",
        "plt.plot(np.arange(len(predicted)), predicted, label=\"Predicted\")\n",
        "plt.legend()\n",
        "plt.show()"
      ]
    },
    {
      "cell_type": "markdown",
      "metadata": {
        "id": "CFGy3WqZd8MI"
      },
      "source": [
        "直近の時系列データを使って、次の値を予測できるようになりました。  \n",
        "今回はサインカーブの予測を行いましたが、同様の技術を株価の予測などに応用することも可能です。"
      ]
    },
    {
      "cell_type": "markdown",
      "metadata": {
        "id": "pIr1066fd8MJ"
      },
      "source": [
        "## 課題\n",
        "最初のセルのx_dataの範囲をさらに広げて、RNNで学習できるかどうか試してみましょう。"
      ]
    },
    {
      "cell_type": "code",
      "execution_count": null,
      "metadata": {
        "id": "QM3Q5P-5d8MK"
      },
      "outputs": [],
      "source": [
        ""
      ]
    }
  ],
  "metadata": {
    "kernelspec": {
      "display_name": "Python 3",
      "language": "python",
      "name": "python3"
    },
    "language_info": {
      "codemirror_mode": {
        "name": "ipython",
        "version": 3
      },
      "file_extension": ".py",
      "mimetype": "text/x-python",
      "name": "python",
      "nbconvert_exporter": "python",
      "pygments_lexer": "ipython3",
      "version": "3.6.8"
    },
    "colab": {
      "name": "simple_rnn.ipynb",
      "provenance": [],
      "include_colab_link": true
    }
  },
  "nbformat": 4,
  "nbformat_minor": 0
}