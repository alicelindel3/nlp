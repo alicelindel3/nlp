{
  "cells": [
    {
      "cell_type": "markdown",
      "metadata": {
        "id": "view-in-github",
        "colab_type": "text"
      },
      "source": [
        "<a href=\"https://colab.research.google.com/github/alicelindel3/nlp/blob/main/Section_06/preprocessing.ipynb\" target=\"_parent\"><img src=\"https://colab.research.google.com/assets/colab-badge.svg\" alt=\"Open In Colab\"/></a>"
      ]
    },
    {
      "cell_type": "markdown",
      "metadata": {
        "id": "WsYZto-6BgZJ"
      },
      "source": [
        "# コーパスの前処理\n",
        "自然言語処理のために集められた大量のテキストデータのことを、**コーパス**といいます。  \n",
        "今回は、青空文庫のデータをコーパスとして用いますが、そのためにはプログラムで扱いやすくするために前処理を行う必要があります。"
      ]
    },
    {
      "cell_type": "markdown",
      "metadata": {
        "id": "4vHZfA8vBgZV"
      },
      "source": [
        "## データの読み込み\n",
        "まず、青空文庫のデータを読み込みます。    \n",
        "データは多い方がいいのですが、今回は簡単にするため夏目漱石の「我輩は猫である」の全文のみを読み込みます。"
      ]
    },
    {
      "cell_type": "code",
      "execution_count": null,
      "metadata": {
        "id": "WoVe2sf_BgZW"
      },
      "outputs": [],
      "source": [
        "with open(\"wagahaiwa_nekodearu.txt\", mode=\"r\", encoding=\"utf-8\") as f:  # ファイルの読み込み\n",
        "    wagahai_original = f.read()\n",
        "\n",
        "print(wagahai_original)    # メモリ不足の際はコメントアウトしてください"
      ]
    },
    {
      "cell_type": "markdown",
      "metadata": {
        "id": "_yNyZZwJBgZZ"
      },
      "source": [
        "## データの前処理\n",
        "読み込んだ小説のデータから、正規表現を用いてルビなどを削除します。  \n",
        "その上で、文章ごとにリストに格納し、pickleを使って保存します。"
      ]
    },
    {
      "cell_type": "code",
      "execution_count": null,
      "metadata": {
        "id": "zmhwiXnUBgZa"
      },
      "outputs": [],
      "source": [
        "import re\n",
        "import pickle\n",
        "\n",
        "wagahai = re.sub(\"《[^》]+》\", \"\", wagahai_original) # ルビの削除\n",
        "wagahai = re.sub(\"［[^］]+］\", \"\", wagahai) # 読みの注意の削除\n",
        "wagahai = re.sub(\"[｜ 　「」\\n]\", \"\", wagahai) # | と全角半角スペース、「」と改行の削除\n",
        "\n",
        "seperator = \"。\"  # 。をセパレータに指定\n",
        "wagahai_list = wagahai.split(seperator)  # セパレーターを使って文章をリストに分割する\n",
        "wagahai_list.pop() # 最後の要素は空の文字列になるので、削除\n",
        "wagahai_list = [x+seperator for x in wagahai_list]  # 文章の最後に。を追加\n",
        "        \n",
        "print(wagahai_list[:10])\n",
        "\n",
        "with open('wagahai_list.pickle', mode='wb') as f:  # pickleに保存\n",
        "    pickle.dump(wagahai_list, f)"
      ]
    },
    {
      "cell_type": "markdown",
      "metadata": {
        "id": "6NWL-hAPBgZc"
      },
      "source": [
        "保存できていることを確認します。"
      ]
    },
    {
      "cell_type": "code",
      "execution_count": null,
      "metadata": {
        "id": "l_Yqm_dDBgZc"
      },
      "outputs": [],
      "source": [
        "with open('wagahai_list.pickle', mode='rb') as f:\n",
        "    wagahai_list = pickle.load(f)\n",
        "\n",
        "print(wagahai_list[:10])"
      ]
    },
    {
      "cell_type": "markdown",
      "metadata": {
        "id": "OCLiYdecBgZd"
      },
      "source": [
        "## 課題:\n",
        "同じフォルダの以下のファイルから「銀河鉄道の夜」を読み込み、前処理を行ってみましょう。  \n",
        "gingatetsudono_yoru.txt"
      ]
    },
    {
      "cell_type": "code",
      "execution_count": null,
      "metadata": {
        "id": "tyln0-ALBgZe"
      },
      "outputs": [],
      "source": [
        ""
      ]
    }
  ],
  "metadata": {
    "kernelspec": {
      "display_name": "Python 3 (ipykernel)",
      "language": "python",
      "name": "python3"
    },
    "language_info": {
      "codemirror_mode": {
        "name": "ipython",
        "version": 3
      },
      "file_extension": ".py",
      "mimetype": "text/x-python",
      "name": "python",
      "nbconvert_exporter": "python",
      "pygments_lexer": "ipython3",
      "version": "3.8.12"
    },
    "colab": {
      "name": "preprocessing.ipynb",
      "provenance": [],
      "include_colab_link": true
    }
  },
  "nbformat": 4,
  "nbformat_minor": 0
}