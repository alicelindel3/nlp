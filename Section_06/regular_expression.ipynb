{
  "cells": [
    {
      "cell_type": "markdown",
      "metadata": {
        "id": "view-in-github",
        "colab_type": "text"
      },
      "source": [
        "<a href=\"https://colab.research.google.com/github/alicelindel3/nlp/blob/main/Section_06/regular_expression.ipynb\" target=\"_parent\"><img src=\"https://colab.research.google.com/assets/colab-badge.svg\" alt=\"Open In Colab\"/></a>"
      ]
    },
    {
      "cell_type": "markdown",
      "metadata": {
        "id": "q3P7QSDL8-o3"
      },
      "source": [
        "# Pythonにおける正規表現\n",
        "指定したパターンに一致する文字列を置換、抽出したい場合、正規表現がよく使われます。  \n",
        "今回は、自然言語処理において便利な正規表現をいくつか紹介します。  \n",
        "正規表現は、文章に前処理を行う際に活躍します。  "
      ]
    },
    {
      "cell_type": "markdown",
      "metadata": {
        "id": "MgWBwBfC8-pF"
      },
      "source": [
        "## subによる置換\n",
        "正規表現を使う際は、reをインポートします。  \n",
        "`re.sub`により、文字列の置換を行うことができます。"
      ]
    },
    {
      "cell_type": "code",
      "execution_count": null,
      "metadata": {
        "id": "JB7JSkWn8-pH"
      },
      "outputs": [],
      "source": [
        "import re\n",
        "\n",
        "s = \"私は柴犬が好きです。\"\n",
        "\n",
        "s = re.sub(\"柴犬\", \"シャム猫\", s)  # 文字列sの「柴犬」を「シャム猫」に置き換える\n",
        "print(s)"
      ]
    },
    {
      "cell_type": "markdown",
      "metadata": {
        "id": "Ht1S84N58-pK"
      },
      "source": [
        "## 複数の文字の指定\n",
        "以下の例では、複数の文字を別の文字に置き換えています。"
      ]
    },
    {
      "cell_type": "code",
      "execution_count": null,
      "metadata": {
        "id": "vnoPmdDK8-pL"
      },
      "outputs": [],
      "source": [
        "import re\n",
        "\n",
        "s = \"私は黒犬と白猫が好きです。\"\n",
        "\n",
        "s = re.sub(\"[犬猫]\", \"馬\", s)  # []内の各文字（「犬」、「猫」）を「馬」に置き換える\n",
        "print(s)"
      ]
    },
    {
      "cell_type": "markdown",
      "metadata": {
        "id": "ENjKrqL_8-pM"
      },
      "source": [
        "[ ]内の各文字を、特定の文字に置き換えることができます。"
      ]
    },
    {
      "cell_type": "markdown",
      "metadata": {
        "id": "1KcnuFdx8-pN"
      },
      "source": [
        "## 否定\n",
        "以下の例では、ある特定の文字以外を置き換えています。"
      ]
    },
    {
      "cell_type": "code",
      "execution_count": null,
      "metadata": {
        "id": "c78BKyBb8-pN"
      },
      "outputs": [],
      "source": [
        "import re\n",
        "\n",
        "s = \"私は黒犬と白猫が好きです。\"\n",
        "\n",
        "s = re.sub(\"[^犬猫]\", \"馬\", s)  # 「犬」、「猫」以外を「馬」に置き換える\n",
        "print(s)"
      ]
    },
    {
      "cell_type": "markdown",
      "metadata": {
        "id": "RyiPFDBk8-pP"
      },
      "source": [
        "^を使うことで、「犬」、「猫」以外の全ての文字が「馬」と入れ替わりました。"
      ]
    },
    {
      "cell_type": "markdown",
      "metadata": {
        "id": "7Fjxlsbi8-pP"
      },
      "source": [
        "## 繰り返し\n",
        "以下の例では、\\+ の記号を使用することで文字の１回以上の繰り返しを表現しています。"
      ]
    },
    {
      "cell_type": "code",
      "execution_count": null,
      "metadata": {
        "id": "Dvs4lAko8-pQ"
      },
      "outputs": [],
      "source": [
        "import re\n",
        "\n",
        "s = \"私は柴犬犬犬犬犬犬犬犬犬犬犬犬犬が好きです。\"\n",
        "\n",
        "s = re.sub(\"犬+\", \"犬\", s)  # 「犬」の繰り返しを「犬」に置き換える\n",
        "print(s)"
      ]
    },
    {
      "cell_type": "markdown",
      "metadata": {
        "id": "jIDx6A3Q8-pQ"
      },
      "source": [
        "「犬」の繰り返しを、「犬」に置き換えました。"
      ]
    },
    {
      "cell_type": "markdown",
      "metadata": {
        "id": "0APRlG4c8-pR"
      },
      "source": [
        "## ルビの除去\n",
        "これまで学んできた正規表現のルールを組み合わせて、文字列からルビを除去します。"
      ]
    },
    {
      "cell_type": "code",
      "execution_count": null,
      "metadata": {
        "id": "TPdPDYU98-pR"
      },
      "outputs": [],
      "source": [
        "import re\n",
        "\n",
        "s = \"私は柴犬【しばいぬ】とシャム猫【しゃむねこ】が大好きです。\"\n",
        "\n",
        "s = re.sub(\"【[^】]+】\", \"\", s)  # 【と】の間に】以外の文字が複数ある箇所を、空の文字列に置き換える\n",
        "print(s)"
      ]
    },
    {
      "cell_type": "markdown",
      "metadata": {
        "id": "W14fPfxF8-pS"
      },
      "source": [
        "`[^】]+`の箇所は、】以外の文字の繰り返しを意味します。  \n",
        "従って、`【[^】]+】`は【と】の間に】以外の文字が複数ある箇所を表します。"
      ]
    },
    {
      "cell_type": "markdown",
      "metadata": {
        "id": "po6AWaqA8-pS"
      },
      "source": [
        "## 課題:\n",
        "以下のコードにおける文字列sから、正規表現を使ってルビを除去してみましょう。"
      ]
    },
    {
      "cell_type": "code",
      "execution_count": null,
      "metadata": {
        "collapsed": true,
        "id": "i6-rx7b_8-pS"
      },
      "outputs": [],
      "source": [
        "import re\n",
        "\n",
        "s = \"白馬【はくば】に乗って、草原【そうげん】を駆けるのが夢です。\"\n",
        "s = re.sub(\"【[^】]+】\", \"\", s) \n",
        "print(s)"
      ]
    }
  ],
  "metadata": {
    "kernelspec": {
      "display_name": "Python 3",
      "language": "python",
      "name": "python3"
    },
    "language_info": {
      "codemirror_mode": {
        "name": "ipython",
        "version": 3
      },
      "file_extension": ".py",
      "mimetype": "text/x-python",
      "name": "python",
      "nbconvert_exporter": "python",
      "pygments_lexer": "ipython3",
      "version": "3.8.8"
    },
    "colab": {
      "name": "regular_expression.ipynb",
      "provenance": [],
      "include_colab_link": true
    }
  },
  "nbformat": 4,
  "nbformat_minor": 0
}