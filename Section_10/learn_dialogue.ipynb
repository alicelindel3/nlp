{
  "cells": [
    {
      "cell_type": "markdown",
      "metadata": {
        "id": "view-in-github",
        "colab_type": "text"
      },
      "source": [
        "<a href=\"https://colab.research.google.com/github/alicelindel3/nlp/blob/main/Section_10/learn_dialogue.ipynb\" target=\"_parent\"><img src=\"https://colab.research.google.com/assets/colab-badge.svg\" alt=\"Open In Colab\"/></a>"
      ]
    },
    {
      "cell_type": "markdown",
      "metadata": {
        "id": "W-SnrPOgQgRR"
      },
      "source": [
        "# 対話の学習\n",
        "宮沢賢治の小説において、次の文章を予測できるようにSeq2Seqのモデルを訓練します。  \n",
        "これにより、賢治風の返答が生成できるようになります。"
      ]
    },
    {
      "cell_type": "markdown",
      "metadata": {
        "id": "85B-RAV9QgRh"
      },
      "source": [
        "## 使用する文字\n",
        "学習をなるべく簡単にするために、ひらがなとカタカナ、記号のみを使用します。  \n",
        "コーパスで使われていない文字の入力にも対応するために、全てのひらがなとカタカナを用意します。  \n",
        "また、それ以外の記号などについては、コーパスで使われているものを加えます。"
      ]
    },
    {
      "cell_type": "code",
      "execution_count": 2,
      "metadata": {
        "id": "LeneeKcoQgRj",
        "colab": {
          "base_uri": "https://localhost:8080/"
        },
        "outputId": "8fae0b8a-6405-428b-ca6b-95156923e222"
      },
      "outputs": [
        {
          "output_type": "stream",
          "name": "stdout",
          "text": [
            "['\\t', '\\n', '、', '。', '々', 'ぁ', 'あ', 'ぃ', 'い', 'ぅ', 'う', 'ぇ', 'え', 'ぉ', 'お', 'か', 'が', 'き', 'ぎ', 'く', 'ぐ', 'け', 'げ', 'こ', 'ご', 'さ', 'ざ', 'し', 'じ', 'す', 'ず', 'せ', 'ぜ', 'そ', 'ぞ', 'た', 'だ', 'ち', 'ぢ', 'っ', 'つ', 'づ', 'て', 'で', 'と', 'ど', 'な', 'に', 'ぬ', 'ね', 'の', 'は', 'ば', 'ぱ', 'ひ', 'び', 'ぴ', 'ふ', 'ぶ', 'ぷ', 'へ', 'べ', 'ぺ', 'ほ', 'ぼ', 'ぽ', 'ま', 'み', 'む', 'め', 'も', 'ゃ', 'や', 'ゅ', 'ゆ', 'ょ', 'よ', 'ら', 'り', 'る', 'れ', 'ろ', 'ゎ', 'わ', 'ゐ', 'ゑ', 'を', 'ん', 'ァ', 'ア', 'ィ', 'イ', 'ゥ', 'ウ', 'ェ', 'エ', 'ォ', 'オ', 'カ', 'ガ', 'キ', 'ギ', 'ク', 'グ', 'ケ', 'ゲ', 'コ', 'ゴ', 'サ', 'ザ', 'シ', 'ジ', 'ス', 'ズ', 'セ', 'ゼ', 'ソ', 'ゾ', 'タ', 'ダ', 'チ', 'ヂ', 'ッ', 'ツ', 'ヅ', 'テ', 'デ', 'ト', 'ド', 'ナ', 'ニ', 'ヌ', 'ネ', 'ノ', 'ハ', 'バ', 'パ', 'ヒ', 'ビ', 'ピ', 'フ', 'ブ', 'プ', 'ヘ', 'ベ', 'ペ', 'ホ', 'ボ', 'ポ', 'マ', 'ミ', 'ム', 'メ', 'モ', 'ャ', 'ヤ', 'ュ', 'ユ', 'ョ', 'ヨ', 'ラ', 'リ', 'ル', 'レ', 'ロ', 'ヮ', 'ワ', 'ヰ', 'ヱ', 'ヲ', 'ン', 'ヴ', '・', 'ー', '？']\n"
          ]
        }
      ],
      "source": [
        "import pickle\n",
        "\n",
        "hiragana = \"ぁあぃいぅうぇえぉおかがきぎくぐけげこごさざしじすずせぜそぞ\\\n",
        "ただちぢっつづてでとどなにぬねのはばぱひびぴふぶぷへべぺほぼぽ\\\n",
        "まみむめもゃやゅゆょよらりるれろゎわゐゑをん\"\n",
        "\n",
        "katakana = \"ァアィイゥウェエォオカガキギクグケゲコゴサザシジスズセゼソゾ\\\n",
        "タダチヂッツヅテデトドナニヌネノハバパヒビピフブプヘベペホボポ\\\n",
        "マミムメモャヤュユョヨラリルレロヮワヰヱヲンヴ\"\n",
        "\n",
        "chars = hiragana + katakana\n",
        "\n",
        "with open(\"kana_kenji.txt\", mode=\"r\", encoding=\"utf-8\") as f:  # 前回保存したファイル\n",
        "    text = f.read()\n",
        "    \n",
        "for char in text:  # ひらがな、カタカナ以外でコーパスに使われている文字を追加\n",
        "    if char not in chars:\n",
        "        chars += char\n",
        "        \n",
        "chars += \"\\t\\n\"  # タブと改行を追加\n",
        "        \n",
        "chars_list = sorted(list(chars))  # 文字列をリストに変換してソートする\n",
        "print(chars_list)\n",
        "\n",
        "with open(\"kana_chars.pickle\", mode=\"wb\") as f:  # pickleで保存\n",
        "    pickle.dump(chars_list, f)"
      ]
    },
    {
      "cell_type": "markdown",
      "metadata": {
        "id": "rHGAjwMDQgRp"
      },
      "source": [
        "## 文字のベクトル化\n",
        "各文字をone-hot表現で表し、encoderへの入力、decoderへの入力、decoderの正解を作成します。  \n",
        "各文章はそれぞれ長さが違いますが、文章の終了後は全て0のベクトルで埋めます。  \n",
        "学習効率を考慮し、長すぎる文章はカットします。"
      ]
    },
    {
      "cell_type": "code",
      "execution_count": 3,
      "metadata": {
        "id": "iZI6lFGsQgRq",
        "colab": {
          "base_uri": "https://localhost:8080/"
        },
        "outputId": "a73de6c7-278c-46f9-f3e3-980fffb00467"
      },
      "outputs": [
        {
          "output_type": "stream",
          "name": "stderr",
          "text": [
            "/usr/local/lib/python3.7/dist-packages/ipykernel_launcher.py:30: DeprecationWarning: `np.bool` is a deprecated alias for the builtin `bool`. To silence this warning, use `bool` by itself. Doing this will not modify any behavior and is safe. If you specifically wanted the numpy scalar type, use `np.bool_` here.\n",
            "Deprecated in NumPy 1.20; for more details and guidance: https://numpy.org/devdocs/release/1.20.0-notes.html#deprecations\n",
            "/usr/local/lib/python3.7/dist-packages/ipykernel_launcher.py:31: DeprecationWarning: `np.bool` is a deprecated alias for the builtin `bool`. To silence this warning, use `bool` by itself. Doing this will not modify any behavior and is safe. If you specifically wanted the numpy scalar type, use `np.bool_` here.\n",
            "Deprecated in NumPy 1.20; for more details and guidance: https://numpy.org/devdocs/release/1.20.0-notes.html#deprecations\n",
            "/usr/local/lib/python3.7/dist-packages/ipykernel_launcher.py:32: DeprecationWarning: `np.bool` is a deprecated alias for the builtin `bool`. To silence this warning, use `bool` by itself. Doing this will not modify any behavior and is safe. If you specifically wanted the numpy scalar type, use `np.bool_` here.\n",
            "Deprecated in NumPy 1.20; for more details and guidance: https://numpy.org/devdocs/release/1.20.0-notes.html#deprecations\n"
          ]
        },
        {
          "output_type": "stream",
          "name": "stdout",
          "text": [
            "(5091, 128, 175)\n"
          ]
        }
      ],
      "source": [
        "import numpy as np\n",
        "\n",
        "# インデックスと文字で辞書を作成\n",
        "char_indices = {}  # 文字がキーでインデックスが値\n",
        "for i, char in enumerate(chars_list):\n",
        "    char_indices[char] = i\n",
        "indices_char = {}  # インデックスがキーで文字が値\n",
        "for i, char in enumerate(chars_list):\n",
        "    indices_char[i] = char\n",
        "    \n",
        "seperator = \"。\"\n",
        "sentence_list = text.split(seperator) \n",
        "sentence_list.pop() \n",
        "sentence_list = [x+seperator for x in sentence_list]\n",
        "\n",
        "max_sentence_length = 128  # 文章の最大長さ。これより長い文章はカットされる。\n",
        "sentence_list = [sentence for sentence in sentence_list if len(sentence) <= max_sentence_length]  # 長すぎる文章のカット\n",
        "\n",
        "n_char = len(chars_list)  # 文字の種類の数\n",
        "n_sample = len(sentence_list) - 1  # サンプル数\n",
        "\n",
        "x_sentences = []  # 入力の文章\n",
        "t_sentences = []  # 正解の文章\n",
        "for i in range(n_sample):\n",
        "    x_sentences.append(sentence_list[i])\n",
        "    t_sentences.append(\"\\t\" + sentence_list[i+1] + \"\\n\")  # 正解は先頭にタブ、末尾に改行を加える\n",
        "max_length_x = max_sentence_length  # 入力文章の最大長さ\n",
        "max_length_t = max_sentence_length + 2  # 正解文章の最大長さ\n",
        "\n",
        "x_encoder = np.zeros((n_sample, max_length_x, n_char), dtype=np.bool)  # encoderへの入力\n",
        "x_decoder = np.zeros((n_sample, max_length_t, n_char), dtype=np.bool)  # decoderへの入力\n",
        "t_decoder = np.zeros((n_sample, max_length_t, n_char), dtype=np.bool)  # decoderの正解\n",
        "\n",
        "for i in range(n_sample):\n",
        "    x_sentence = x_sentences[i]\n",
        "    t_sentence = t_sentences[i]\n",
        "    for j, char in enumerate(x_sentence):\n",
        "        x_encoder[i, j, char_indices[char]] = 1  # encoderへの入力をone-hot表現で表す\n",
        "    for j, char in enumerate(t_sentence):\n",
        "        x_decoder[i, j, char_indices[char]] = 1  # decoderへの入力をone-hot表現で表す\n",
        "        if j > 0:  # 正解は入力より1つ前の時刻のものにする\n",
        "            t_decoder[i, j-1, char_indices[char]] = 1\n",
        "            \n",
        "print(x_encoder.shape)"
      ]
    },
    {
      "cell_type": "markdown",
      "metadata": {
        "id": "C5ssHXL3QgRu"
      },
      "source": [
        "## 各設定\n",
        "学習に関する各設定です。  \n",
        "「早期終了」により学習を自動ストップするので、エポック数は多めに設定します。"
      ]
    },
    {
      "cell_type": "code",
      "execution_count": 4,
      "metadata": {
        "collapsed": true,
        "id": "iLFhlUCXQgRv"
      },
      "outputs": [],
      "source": [
        "batch_size = 32\n",
        "epochs = 1000\n",
        "n_mid = 256  # 中間層のニューロン数"
      ]
    },
    {
      "cell_type": "markdown",
      "metadata": {
        "id": "dMvoqAfUQgRx"
      },
      "source": [
        "## 学習用モデルの構築\n",
        "学習用のSeq2Seqモデルを構築します。  \n",
        "今回は、前のセクションでより自然な文章の作成につながったGRUを使います。  \n",
        "また、入力の直後にMasking層を挟みます。\n",
        "これにより、全ての要素が0であるベクトルの入力は無視されます。  \n",
        "\n",
        "GRU層にはdropoutを設定し、ニューロンをランダムに無効にすることで過学習対策をします。  \n",
        "過学習とは、モデルが訓練データに過剰に適応してしまい、未知のデータに対して機能しなくなってしまうことです。"
      ]
    },
    {
      "cell_type": "code",
      "execution_count": 5,
      "metadata": {
        "id": "SVkWnhVJQgRz",
        "colab": {
          "base_uri": "https://localhost:8080/"
        },
        "outputId": "b57414ab-10a5-45da-f3aa-5b3916c2a884"
      },
      "outputs": [
        {
          "output_type": "stream",
          "name": "stderr",
          "text": [
            "WARNING:tensorflow:Layer gru will not use cuDNN kernels since it doesn't meet the criteria. It will use a generic GPU kernel as fallback when running on GPU.\n",
            "WARNING:tensorflow:Layer gru_1 will not use cuDNN kernels since it doesn't meet the criteria. It will use a generic GPU kernel as fallback when running on GPU.\n"
          ]
        },
        {
          "output_type": "stream",
          "name": "stdout",
          "text": [
            "Model: \"model\"\n",
            "__________________________________________________________________________________________________\n",
            " Layer (type)                   Output Shape         Param #     Connected to                     \n",
            "==================================================================================================\n",
            " input_1 (InputLayer)           [(None, None, 175)]  0           []                               \n",
            "                                                                                                  \n",
            " input_2 (InputLayer)           [(None, None, 175)]  0           []                               \n",
            "                                                                                                  \n",
            " masking (Masking)              (None, None, 175)    0           ['input_1[0][0]']                \n",
            "                                                                                                  \n",
            " masking_1 (Masking)            (None, None, 175)    0           ['input_2[0][0]']                \n",
            "                                                                                                  \n",
            " gru (GRU)                      [(None, 256),        332544      ['masking[0][0]']                \n",
            "                                 (None, 256)]                                                     \n",
            "                                                                                                  \n",
            " gru_1 (GRU)                    [(None, None, 256),  332544      ['masking_1[0][0]',              \n",
            "                                 (None, 256)]                     'gru[0][1]']                    \n",
            "                                                                                                  \n",
            " dense (Dense)                  (None, None, 175)    44975       ['gru_1[0][0]']                  \n",
            "                                                                                                  \n",
            "==================================================================================================\n",
            "Total params: 710,063\n",
            "Trainable params: 710,063\n",
            "Non-trainable params: 0\n",
            "__________________________________________________________________________________________________\n",
            "None\n"
          ]
        }
      ],
      "source": [
        "from keras.models import Model\n",
        "from keras.layers import Dense, GRU, Input, Masking\n",
        "\n",
        "encoder_input = Input(shape=(None, n_char))\n",
        "encoder_mask = Masking(mask_value=0)  # 全ての要素が0であるベクトルの入力は無視する\n",
        "encoder_masked = encoder_mask(encoder_input)\n",
        "encoder_lstm = GRU(n_mid, dropout=0.2, recurrent_dropout=0.2, return_state=True)  # dropoutを設定し、ニューロンをランダムに無効にする\n",
        "encoder_output, encoder_state_h = encoder_lstm(encoder_masked)\n",
        "\n",
        "decoder_input = Input(shape=(None, n_char))\n",
        "decoder_mask = Masking(mask_value=0)  # 全ての要素が0であるベクトルの入力は無視する\n",
        "decoder_masked = decoder_mask(decoder_input)\n",
        "decoder_lstm = GRU(n_mid, dropout=0.2, recurrent_dropout=0.2, return_sequences=True, return_state=True)  # dropoutを設定\n",
        "decoder_output, _ = decoder_lstm(decoder_masked, initial_state=encoder_state_h)  # encoderの状態を初期状態にする\n",
        "decoder_dense = Dense(n_char, activation='softmax')\n",
        "decoder_output = decoder_dense(decoder_output)\n",
        "\n",
        "model = Model([encoder_input, decoder_input], decoder_output)\n",
        "\n",
        "model.compile(loss=\"categorical_crossentropy\", optimizer=\"rmsprop\")\n",
        "print(model.summary())"
      ]
    },
    {
      "cell_type": "markdown",
      "metadata": {
        "id": "a44BKpNXQgR1"
      },
      "source": [
        "## 学習\n",
        "構築したSeq2Seqのモデルを使って、学習を行います。  \n",
        "今回は、**早期終了**を設定します。  \n",
        "コールバックにEarlyStoppingを設定することで、学習を自動で終了させることができます。  \n",
        "誤差に改善が見られなくなってからpatianceで設定したエポック数が経過すると、学習は終了となります。  \n",
        "お手元の環境にもよりますが学習には数時間程度必要ですので、早く結果を確認したい方はpatienceの値を小さくしましょう。  "
      ]
    },
    {
      "cell_type": "code",
      "execution_count": 6,
      "metadata": {
        "id": "bBZW2lqFQgR3",
        "colab": {
          "base_uri": "https://localhost:8080/"
        },
        "outputId": "6343aceb-af9f-4ebc-8bb9-e9ece3b3d141"
      },
      "outputs": [
        {
          "output_type": "stream",
          "name": "stdout",
          "text": [
            "Epoch 1/1000\n",
            "144/144 [==============================] - 145s 962ms/step - loss: 0.9774 - val_loss: 0.8588\n",
            "Epoch 2/1000\n",
            "144/144 [==============================] - 136s 948ms/step - loss: 0.8675 - val_loss: 0.8068\n",
            "Epoch 3/1000\n",
            "144/144 [==============================] - 135s 934ms/step - loss: 0.8271 - val_loss: 0.7800\n",
            "Epoch 4/1000\n",
            "144/144 [==============================] - 135s 937ms/step - loss: 0.8067 - val_loss: 0.7671\n",
            "Epoch 5/1000\n",
            "144/144 [==============================] - 134s 930ms/step - loss: 0.7943 - val_loss: 0.7573\n",
            "Epoch 6/1000\n",
            "144/144 [==============================] - 134s 929ms/step - loss: 0.7830 - val_loss: 0.7480\n",
            "Epoch 7/1000\n",
            "144/144 [==============================] - 134s 933ms/step - loss: 0.7746 - val_loss: 0.7494\n",
            "Epoch 8/1000\n",
            "144/144 [==============================] - 136s 942ms/step - loss: 0.7659 - val_loss: 0.7384\n",
            "Epoch 9/1000\n",
            "144/144 [==============================] - 133s 927ms/step - loss: 0.7593 - val_loss: 0.7320\n",
            "Epoch 10/1000\n",
            "144/144 [==============================] - 133s 927ms/step - loss: 0.7522 - val_loss: 0.7245\n",
            "Epoch 11/1000\n",
            "144/144 [==============================] - 133s 924ms/step - loss: 0.7465 - val_loss: 0.7203\n",
            "Epoch 12/1000\n",
            "144/144 [==============================] - 132s 914ms/step - loss: 0.7399 - val_loss: 0.7176\n",
            "Epoch 13/1000\n",
            "144/144 [==============================] - 132s 919ms/step - loss: 0.7386 - val_loss: 0.7151\n",
            "Epoch 14/1000\n",
            "144/144 [==============================] - 133s 922ms/step - loss: 0.7309 - val_loss: 0.7121\n",
            "Epoch 15/1000\n",
            "144/144 [==============================] - 132s 917ms/step - loss: 0.7232 - val_loss: 0.7064\n",
            "Epoch 16/1000\n",
            "144/144 [==============================] - 133s 921ms/step - loss: 0.7172 - val_loss: 0.7023\n",
            "Epoch 17/1000\n",
            "144/144 [==============================] - 131s 912ms/step - loss: 0.7129 - val_loss: 0.6981\n",
            "Epoch 18/1000\n",
            "144/144 [==============================] - 132s 918ms/step - loss: 0.7070 - val_loss: 0.6985\n",
            "Epoch 19/1000\n",
            "144/144 [==============================] - 133s 927ms/step - loss: 0.7018 - val_loss: 0.6922\n",
            "Epoch 20/1000\n",
            "144/144 [==============================] - 131s 913ms/step - loss: 0.6969 - val_loss: 0.6894\n",
            "Epoch 21/1000\n",
            "144/144 [==============================] - 131s 913ms/step - loss: 0.6927 - val_loss: 0.6864\n",
            "Epoch 22/1000\n",
            "144/144 [==============================] - 130s 901ms/step - loss: 0.6890 - val_loss: 0.6833\n",
            "Epoch 23/1000\n",
            "144/144 [==============================] - 132s 914ms/step - loss: 0.6839 - val_loss: 0.6846\n",
            "Epoch 24/1000\n",
            "144/144 [==============================] - 131s 907ms/step - loss: 0.6800 - val_loss: 0.6806\n",
            "Epoch 25/1000\n",
            "144/144 [==============================] - 130s 901ms/step - loss: 0.6762 - val_loss: 0.6775\n",
            "Epoch 26/1000\n",
            "144/144 [==============================] - 130s 905ms/step - loss: 0.6720 - val_loss: 0.6756\n",
            "Epoch 27/1000\n",
            "144/144 [==============================] - 130s 899ms/step - loss: 0.6683 - val_loss: 0.6746\n",
            "Epoch 28/1000\n",
            "144/144 [==============================] - 130s 906ms/step - loss: 0.6663 - val_loss: 0.6739\n",
            "Epoch 29/1000\n",
            "144/144 [==============================] - 129s 896ms/step - loss: 0.6626 - val_loss: 0.6706\n",
            "Epoch 30/1000\n",
            "144/144 [==============================] - 130s 901ms/step - loss: 0.6584 - val_loss: 0.6728\n",
            "Epoch 31/1000\n",
            "144/144 [==============================] - 130s 904ms/step - loss: 0.6553 - val_loss: 0.6686\n",
            "Epoch 32/1000\n",
            "144/144 [==============================] - 129s 898ms/step - loss: 0.6529 - val_loss: 0.6672\n",
            "Epoch 33/1000\n",
            "144/144 [==============================] - 131s 909ms/step - loss: 0.6493 - val_loss: 0.6669\n",
            "Epoch 34/1000\n",
            "144/144 [==============================] - 131s 906ms/step - loss: 0.6468 - val_loss: 0.6669\n",
            "Epoch 35/1000\n",
            "144/144 [==============================] - 130s 904ms/step - loss: 0.6445 - val_loss: 0.6627\n",
            "Epoch 36/1000\n",
            "144/144 [==============================] - 129s 895ms/step - loss: 0.6407 - val_loss: 0.6634\n",
            "Epoch 37/1000\n",
            "144/144 [==============================] - 130s 902ms/step - loss: 0.6392 - val_loss: 0.6630\n",
            "Epoch 38/1000\n",
            "144/144 [==============================] - 129s 894ms/step - loss: 0.6371 - val_loss: 0.6623\n",
            "Epoch 39/1000\n",
            "144/144 [==============================] - 130s 901ms/step - loss: 0.6345 - val_loss: 0.6611\n",
            "Epoch 40/1000\n",
            "144/144 [==============================] - 129s 893ms/step - loss: 0.6312 - val_loss: 0.6620\n",
            "Epoch 41/1000\n",
            "144/144 [==============================] - 130s 900ms/step - loss: 0.6289 - val_loss: 0.6618\n",
            "Epoch 42/1000\n",
            "144/144 [==============================] - 128s 891ms/step - loss: 0.6273 - val_loss: 0.6599\n",
            "Epoch 43/1000\n",
            "144/144 [==============================] - 129s 897ms/step - loss: 0.6257 - val_loss: 0.6576\n",
            "Epoch 44/1000\n",
            "144/144 [==============================] - 128s 892ms/step - loss: 0.6229 - val_loss: 0.6604\n",
            "Epoch 45/1000\n",
            "144/144 [==============================] - 129s 897ms/step - loss: 0.6215 - val_loss: 0.6582\n",
            "Epoch 46/1000\n",
            "144/144 [==============================] - 129s 893ms/step - loss: 0.6200 - val_loss: 0.6586\n",
            "Epoch 47/1000\n",
            "144/144 [==============================] - 129s 898ms/step - loss: 0.6183 - val_loss: 0.6598\n",
            "Epoch 48/1000\n",
            "144/144 [==============================] - 128s 890ms/step - loss: 0.6153 - val_loss: 0.6592\n",
            "Epoch 49/1000\n",
            "144/144 [==============================] - 130s 901ms/step - loss: 0.6150 - val_loss: 0.6575\n",
            "Epoch 50/1000\n",
            "144/144 [==============================] - 128s 891ms/step - loss: 0.6131 - val_loss: 0.6593\n",
            "Epoch 51/1000\n",
            "144/144 [==============================] - 129s 896ms/step - loss: 0.6106 - val_loss: 0.6576\n",
            "Epoch 52/1000\n",
            "144/144 [==============================] - 128s 891ms/step - loss: 0.6103 - val_loss: 0.6582\n",
            "Epoch 53/1000\n",
            "144/144 [==============================] - 129s 900ms/step - loss: 0.6090 - val_loss: 0.6578\n",
            "Epoch 54/1000\n",
            "144/144 [==============================] - 129s 894ms/step - loss: 0.6073 - val_loss: 0.6583\n",
            "Epoch 55/1000\n",
            "144/144 [==============================] - 130s 899ms/step - loss: 0.6066 - val_loss: 0.6580\n",
            "Epoch 56/1000\n",
            "144/144 [==============================] - 129s 896ms/step - loss: 0.6042 - val_loss: 0.6559\n",
            "Epoch 57/1000\n",
            "144/144 [==============================] - 129s 897ms/step - loss: 0.6033 - val_loss: 0.6559\n",
            "Epoch 58/1000\n",
            "144/144 [==============================] - 128s 891ms/step - loss: 0.6013 - val_loss: 0.6581\n",
            "Epoch 59/1000\n",
            "144/144 [==============================] - 128s 892ms/step - loss: 0.6004 - val_loss: 0.6591\n",
            "Epoch 60/1000\n",
            "144/144 [==============================] - 128s 887ms/step - loss: 0.5994 - val_loss: 0.6578\n",
            "Epoch 61/1000\n",
            "144/144 [==============================] - 129s 895ms/step - loss: 0.5984 - val_loss: 0.6612\n",
            "Epoch 62/1000\n",
            "144/144 [==============================] - 129s 894ms/step - loss: 0.5969 - val_loss: 0.6553\n",
            "Epoch 63/1000\n",
            "144/144 [==============================] - 128s 891ms/step - loss: 0.5948 - val_loss: 0.6548\n",
            "Epoch 64/1000\n",
            "144/144 [==============================] - 130s 900ms/step - loss: 0.5946 - val_loss: 0.6582\n",
            "Epoch 65/1000\n",
            "144/144 [==============================] - 129s 894ms/step - loss: 0.5929 - val_loss: 0.6570\n",
            "Epoch 66/1000\n",
            "144/144 [==============================] - 130s 906ms/step - loss: 0.5927 - val_loss: 0.6559\n",
            "Epoch 67/1000\n",
            "144/144 [==============================] - 130s 902ms/step - loss: 0.5913 - val_loss: 0.6570\n",
            "Epoch 68/1000\n",
            "144/144 [==============================] - 130s 905ms/step - loss: 0.5895 - val_loss: 0.6562\n",
            "Epoch 69/1000\n",
            "144/144 [==============================] - 129s 896ms/step - loss: 0.5884 - val_loss: 0.6575\n",
            "Epoch 70/1000\n",
            "144/144 [==============================] - 130s 901ms/step - loss: 0.5882 - val_loss: 0.6569\n",
            "Epoch 71/1000\n",
            "144/144 [==============================] - 130s 904ms/step - loss: 0.5866 - val_loss: 0.6597\n",
            "Epoch 72/1000\n",
            "144/144 [==============================] - 128s 889ms/step - loss: 0.5859 - val_loss: 0.6594\n",
            "Epoch 73/1000\n",
            "144/144 [==============================] - 128s 891ms/step - loss: 0.5854 - val_loss: 0.6598\n",
            "Epoch 74/1000\n",
            "144/144 [==============================] - 127s 883ms/step - loss: 0.5843 - val_loss: 0.6590\n",
            "Epoch 75/1000\n",
            "144/144 [==============================] - 128s 889ms/step - loss: 0.5836 - val_loss: 0.6564\n",
            "Epoch 76/1000\n",
            "144/144 [==============================] - 129s 893ms/step - loss: 0.5817 - val_loss: 0.6591\n",
            "Epoch 77/1000\n",
            "144/144 [==============================] - 128s 886ms/step - loss: 0.5815 - val_loss: 0.6586\n",
            "Epoch 78/1000\n",
            "144/144 [==============================] - 129s 893ms/step - loss: 0.5804 - val_loss: 0.6603\n",
            "Epoch 79/1000\n",
            "144/144 [==============================] - 127s 884ms/step - loss: 0.5793 - val_loss: 0.6609\n",
            "Epoch 80/1000\n",
            "144/144 [==============================] - 127s 883ms/step - loss: 0.5798 - val_loss: 0.6604\n",
            "Epoch 81/1000\n",
            "144/144 [==============================] - 129s 892ms/step - loss: 0.5776 - val_loss: 0.6605\n",
            "Epoch 82/1000\n",
            "144/144 [==============================] - 127s 884ms/step - loss: 0.5776 - val_loss: 0.6591\n",
            "Epoch 83/1000\n",
            "144/144 [==============================] - 128s 886ms/step - loss: 0.5764 - val_loss: 0.6605\n",
            "Epoch 84/1000\n",
            "144/144 [==============================] - 128s 886ms/step - loss: 0.5767 - val_loss: 0.6608\n",
            "Epoch 85/1000\n",
            "144/144 [==============================] - 128s 888ms/step - loss: 0.5752 - val_loss: 0.6644\n",
            "Epoch 86/1000\n",
            "144/144 [==============================] - 127s 883ms/step - loss: 0.5748 - val_loss: 0.6609\n",
            "Epoch 87/1000\n",
            "144/144 [==============================] - 128s 888ms/step - loss: 0.5736 - val_loss: 0.6612\n",
            "Epoch 88/1000\n",
            "144/144 [==============================] - 127s 880ms/step - loss: 0.5728 - val_loss: 0.6613\n",
            "Epoch 89/1000\n",
            "144/144 [==============================] - 128s 888ms/step - loss: 0.5728 - val_loss: 0.6626\n",
            "Epoch 90/1000\n",
            "144/144 [==============================] - 127s 883ms/step - loss: 0.5713 - val_loss: 0.6652\n",
            "Epoch 91/1000\n",
            "144/144 [==============================] - 127s 884ms/step - loss: 0.5708 - val_loss: 0.6630\n",
            "Epoch 92/1000\n",
            "144/144 [==============================] - 128s 892ms/step - loss: 0.5707 - val_loss: 0.6616\n",
            "Epoch 93/1000\n",
            "144/144 [==============================] - 128s 887ms/step - loss: 0.5697 - val_loss: 0.6646\n"
          ]
        }
      ],
      "source": [
        "from keras.callbacks import EarlyStopping \n",
        "\n",
        "# val_lossに改善が見られなくなってから、30エポックで学習は終了\n",
        "early_stopping = EarlyStopping(monitor=\"val_loss\", patience=30) \n",
        "\n",
        "history = model.fit([x_encoder, x_decoder], t_decoder,\n",
        "                     batch_size=batch_size,\n",
        "                     epochs=epochs,\n",
        "                     validation_split=0.1,  # 10%は検証用\n",
        "                     callbacks=[early_stopping])"
      ]
    },
    {
      "cell_type": "markdown",
      "metadata": {
        "id": "2h5gj7sSQgR4"
      },
      "source": [
        "## 学習の推移\n",
        "誤差の推移を確認します。"
      ]
    },
    {
      "cell_type": "code",
      "execution_count": 7,
      "metadata": {
        "id": "ZyrUTnQxQgR5",
        "colab": {
          "base_uri": "https://localhost:8080/",
          "height": 265
        },
        "outputId": "559219c5-e055-4483-ac30-b5ec675efe15"
      },
      "outputs": [
        {
          "output_type": "display_data",
          "data": {
            "text/plain": [
              "<Figure size 432x288 with 1 Axes>"
            ],
            "image/png": "[encoded data removed]"
          },
          "metadata": {
            "needs_background": "light"
          }
        }
      ],
      "source": [
        "%matplotlib inline\n",
        "import matplotlib.pyplot as plt\n",
        "\n",
        "loss = history.history['loss']\n",
        "val_loss = history.history['val_loss']\n",
        "\n",
        "plt.plot(np.arange(len(loss)), loss)\n",
        "plt.plot(np.arange(len(val_loss)), val_loss)\n",
        "plt.show()"
      ]
    },
    {
      "cell_type": "markdown",
      "metadata": {
        "id": "ztVtklEkQgR6"
      },
      "source": [
        "検証用データの誤差は途中で改善が止まっていますね。  \n",
        "もう少し早めに学習を終了しても良さそうです。  \n",
        "誤差の値自体はあまり小さくなっていませんが、とりあえず対話文の生成を試してみましょう。"
      ]
    },
    {
      "cell_type": "markdown",
      "metadata": {
        "id": "KAh4z8g2QgR7"
      },
      "source": [
        "## 予測用モデルの構築\n",
        "学習済みのオブジェクトから、encoder、decoderのモデルを個別に構築します。    \n",
        "encoderは入力を受け取って状態を返し、decoderは入力と状態を受け取って出力と状態を返すようにします。  \n",
        "構築したモデルは、後のレクチャーで使えるように保存しておきます。  "
      ]
    },
    {
      "cell_type": "code",
      "execution_count": 8,
      "metadata": {
        "id": "Z4fqCWnRQgR7",
        "colab": {
          "base_uri": "https://localhost:8080/"
        },
        "outputId": "429fdc6e-3309-490b-ab09-07539febd504"
      },
      "outputs": [
        {
          "output_type": "stream",
          "name": "stderr",
          "text": [
            "WARNING:tensorflow:Compiled the loaded model, but the compiled metrics have yet to be built. `model.compile_metrics` will be empty until you train or evaluate the model.\n",
            "WARNING:tensorflow:Compiled the loaded model, but the compiled metrics have yet to be built. `model.compile_metrics` will be empty until you train or evaluate the model.\n"
          ]
        }
      ],
      "source": [
        "# encoderのモデル\n",
        "encoder_model = Model(encoder_input, encoder_state_h)\n",
        "\n",
        "# decoderのモデル\n",
        "decoder_state_in_h = Input(shape=(n_mid,))\n",
        "decoder_state_in = [decoder_state_in_h]\n",
        "\n",
        "decoder_output, decoder_state_h = decoder_lstm(decoder_input,\n",
        "                                               initial_state=decoder_state_in_h)\n",
        "decoder_output = decoder_dense(decoder_output)\n",
        "\n",
        "decoder_model = Model([decoder_input] + decoder_state_in,\n",
        "                      [decoder_output, decoder_state_h])\n",
        "\n",
        "# モデルの保存\n",
        "encoder_model.save('encoder_model.h5')\n",
        "decoder_model.save('decoder_model.h5')"
      ]
    },
    {
      "cell_type": "markdown",
      "metadata": {
        "id": "CMVaa6NXQgR-"
      },
      "source": [
        "## 返答作成用の関数\n",
        "入力を出力に変換し、返答を作成するための関数を設定します。  \n",
        "decoderでは、各時刻ごとに予測を行い、出力と状態を次の時刻に渡します。  \n",
        "decoderの出力を確率として捉え、その確率に従ってサンプリングを行うので実行するたびにやや異なる文章が生成されます。"
      ]
    },
    {
      "cell_type": "code",
      "execution_count": 9,
      "metadata": {
        "collapsed": true,
        "id": "2yl1LHBCQgR-"
      },
      "outputs": [],
      "source": [
        "def respond(input_data, beta=5):\n",
        "    state_value = encoder_model.predict(input_data)\n",
        "    y_decoder = np.zeros((1, 1, n_char))  # decoderの出力を格納する配列\n",
        "    y_decoder[0][0][char_indices[\"\\t\"]] = 1  # decoderの最初の入力はタブ。one-hot表現にする。\n",
        "\n",
        "    respond_sentence = \"\"  # 返答の文字列\n",
        "    while True:\n",
        "        y, h = decoder_model.predict([y_decoder, state_value])\n",
        "        p_power = y[0][0] ** beta  # 確率分布の調整\n",
        "        next_index = np.random.choice(len(p_power), p=p_power/np.sum(p_power)) \n",
        "        next_char = indices_char[next_index]  # 次の文字\n",
        "\n",
        "        if (next_char == \"\\n\" or len(respond_sentence) >= max_length_x):\n",
        "            break  # 次の文字が改行のとき、もしくは最大文字数を超えたときは終了\n",
        "            \n",
        "        respond_sentence += next_char\n",
        "        y_decoder = np.zeros((1, 1, n_char))  # 次の時刻の入力\n",
        "        y_decoder[0][0][next_index] = 1\n",
        "\n",
        "        state_value = h  # 次の時刻の状態\n",
        "\n",
        "    return respond_sentence"
      ]
    },
    {
      "cell_type": "markdown",
      "metadata": {
        "id": "2RSuhjErQgR_"
      },
      "source": [
        "## 動作の確認\n",
        "訓練データの最初の100文を使って、どのような返答が返ってくるかを確かめます。"
      ]
    },
    {
      "cell_type": "code",
      "execution_count": 10,
      "metadata": {
        "id": "bET5s6tWQgSA",
        "colab": {
          "base_uri": "https://localhost:8080/"
        },
        "outputId": "ddcec178-8423-45a9-c2af-deaaee8962f8"
      },
      "outputs": [
        {
          "output_type": "stream",
          "name": "stdout",
          "text": [
            "Input: ではみなさんは、そういうふうにかわだといわれたり、ちちのながれたあとだといわれたりしていたこのぼんやりとしろいものがほんとうはなにかごしょうちですか。\n",
            "Response: せんせいはまたいいました。\n",
            "\n",
            "Input: せんせいは、こくばんにつるしたおおきなくろいせいざのずの、うえからしたへしろくけぶったぎんがおびのようなところをさしながら、みんなにとをかけました。\n",
            "Response: といいました。\n",
            "\n",
            "Input: カムパネルラがてをあげました。\n",
            "Response: げん、ちいさなほんとうにきているのでした。\n",
            "\n",
            "Input: それからしごにんてをあげました。\n",
            "Response: そしてえんとしたのです。\n",
            "\n",
            "Input: ジョバンニもてをあげようとして、いそいでそのままやめました。\n",
            "Response: するとそのしたのは、あかいはながさけびました。\n",
            "\n",
            "Input: たしかにあれがみんなほしだと、いつかざっしでよんだのでしたが、このごろはジョバンニはまるでまいにちきょうしつでもねむく、ほんをよむひまもよむほんもないので、なんだかどんなこともよくわからないというきもちがするのでした。\n",
            "Response: ところがそのとき、すこしおおきなこえで、あかいしゃしにいってしまいました。\n",
            "\n",
            "Input: ところがせんせいははやくもそれをみつけけたのでした。\n",
            "Response: みんなはそのちいさなこどものかたちになって、またおもしろいくものをみていました。\n",
            "\n",
            "Input: ジョバンニさん。\n",
            "Response: ぼくたちはいっしょうけんいのちいさなこえがあるいているんだ。\n",
            "\n",
            "Input: あなたはわかっているのでしょう。\n",
            "Response: それはぼくはもうしました。\n",
            "\n",
            "Input: ジョバンニはせいよくたちあがりましたが、たってみるともうはっきりとそれをこたえることができないのでした。\n",
            "Response: そのとき、ぼくはそのとき、すこしおおきなこえで、すっかりしたくのように、すこしおおきなこえで、あのこどものかわのみずをはいていました。\n",
            "\n",
            "Input: ザネリがまえのせきからふりかえって、ジョバンニをみてくすっとわらいました。\n",
            "Response: ジョバンニは、それをみつめていたのです。\n",
            "\n",
            "Input: ジョバンニはもうどぎまぎしてまっあかになってしまいました。\n",
            "Response: なんだ、あんまりおもしろい。\n",
            "\n",
            "Input: せんせいがまたいいました。\n",
            "Response: といいました。\n",
            "\n",
            "Input: おおきなぼうえんきょうでぎんがをよっくしらべるとぎんがはだいたいなんでしょう。\n",
            "Response: いいか。\n",
            "\n",
            "Input: やっぱりほしだとジョバンニはおもいましたがこんどもすぐにこたえることができませんでした。\n",
            "Response: せんせい、それはこんなにひゃくはこをかけるときは、あかいはながさけびました。\n",
            "\n",
            "Input: せんせいはしばらくこまったようすでしたが、めをカムパネルラのほうへむけて、ではカムパネルラさん。\n",
            "Response: といいました。\n",
            "\n",
            "Input: となざしました。\n",
            "Response: するとそのしたのは、しゅじんは、またおとこのこがいいました。\n",
            "\n",
            "Input: するとあんなにげんきにてをあげたカムパネルラが、やはりもじもじたちあったままやはりこたえができませんでした。\n",
            "Response: おかあさんは、それをうけとっているのでした。\n",
            "\n",
            "Input: せんせいはいがいなようにしばらくじっとカムパネルラをみていましたが、いそいででは。\n",
            "Response: といいました。\n",
            "\n",
            "Input: よし。\n",
            "Response: イーハトーヴのかんぱんのしたにんのしろいいわのかんがえるのです。\n",
            "\n",
            "Input: といいながら、じぶんでせいずをさしました。\n",
            "Response: それでもそのまんなかにはかせはこんどはあんまりそのこどものじょしゅがやっぱりでていました。\n",
            "\n",
            "Input: このぼんやりとしろいぎんがをおおきないいぼうえんきょうでみますと、もうたくさんのちいさなほしにみえるのです。\n",
            "Response: ジョバンニは、もうどこからいっしょにいいました。\n",
            "\n",
            "Input: ジョバンニさんそうでしょう。\n",
            "Response: ぼくはそこをみると、すこしおおきなこえですか。\n",
            "\n",
            "Input: ジョバンニはまっあかになってうなずきました。\n",
            "Response: さあ、こんなことをいいました。\n",
            "\n",
            "Input: けれどもいつかジョバンニのめのなかにはなみだがいっぱいになりました。\n",
            "Response: こういちは、またさぶろうはすこしおおきなこえでした。\n",
            "\n",
            "Input: そうだぼくはしっていたのだ、もちろんカムパネルラもしっている、それはいつかカムパネルラのおとうさんのはかせのうちでカムパネルラといっしょによんだざっしのなかにあったのだ。\n",
            "Response: それはぼくはもうあんまりおかしいよ。\n",
            "\n",
            "Input: それどこでなくカムパネルラは、そのざっしをよむと、すぐおとうさんのしょさいからきょきなほんをもってきて、ぎんがというところをひろげ、まっくろなぺーじいっぱいにしろいてんてんのあるうつくしいしゃしんをふたりでいつまでもみたのでした。\n",
            "Response: それからそのにんのところへいってしまいました。\n",
            "\n",
            "Input: せんせいはまたいいました。\n",
            "Response: おまえたちはぼくたちのここではなんだ。\n",
            "\n",
            "Input: ですからもしもこのてんのかわがほんとうにかわだとかんがえるなら、そのひとつひとつのちいさなほしはみんなそのかわのそこのすなやじゃりのつぶにもあたるわけです。\n",
            "Response: ブドリはそのときをして、いちろうはまたさぶろうはまたあおいろをみていました。\n",
            "\n",
            "Input: またこれをきょきなちちのながれとかんがえるならもっとてんのかわとよくにています。\n",
            "Response: それでもそのまんなかにはいってきて、それから？それから？それから？あとはどうしてもうしました。\n",
            "\n",
            "Input: つまりそのほしはみな、ちちのなかにまるでこまかにうかんでいるあぶらあぶらのたまにもあたるのです。\n",
            "Response: そしてそのつぎのにちは、あのあかいはなをつかまえて、しばらくあったのです。\n",
            "\n",
            "Input: そんならなにがそのかわのみずにあたるかといいますと、それはしんくうというひかりをあるはやさでつたえるもので、たいようやちきゅうもやっぱりそのなかにうかんでいるのです。\n",
            "Response: そしてそのとき、すこしおおきなこえで、あんまりおかしいことをいって、いままでいっていました。\n",
            "\n",
            "Input: つまりはわたしどももてんのかわのみずのなかにすんでいるわけです。\n",
            "Response: ブドリは、おおきなこえで、あのこどものかいをひろげて、こんどはおもわずわらいました。\n",
            "\n",
            "Input: そしてそのてんのかわのみずのなかからしほうをみると、ちょうどみずがふかいほどあおくみえるように、てんのかわのそこのふかくとおいところほどほしがたくさんつどってみえしたがってしろくぼんやりみえるのです。\n",
            "Response: そしてそのおとこのこがいいました。\n",
            "\n",
            "Input: このもけいをごらんなさい。\n",
            "Response: せいねんはいいました。\n",
            "\n",
            "Input: せんせいはなかにたくさんひかるすなのつぶのいっったおおきなりょうめんのとつレンズをさしました。\n",
            "Response: いちろうはまたさぶろうはすこしおしました。\n",
            "\n",
            "Input: てんのかわのかたちはちょうどこんななのです。\n",
            "Response: こういちはいきなりあたまをみました。\n",
            "\n",
            "Input: このいちいちのひかるつぶがみんなわたしどものたいようとおなじようにじぶんでひかっているほしだとかんがえます。\n",
            "Response: そしてそのとき、おとうさんが、おおきなこえで、あのこどものかいをひろげて、しゃしょうのようになって、あおいかんのあしをかけて、いいました。\n",
            "\n",
            "Input: わたしどものたいようがこのほぼなかごろにあってちきゅうがそのすぐちかくにあるとします。\n",
            "Response: ホモイは、それをみつめて、あかいしゃしんしたのです。\n",
            "\n",
            "Input: みなさんはよるにこのまんなかにたってこのレンズのなかをみまわすとしてごらんなさい。\n",
            "Response: おまえたちはこんどはあんまりおくれ。\n",
            "\n",
            "Input: こっちのかたはレンズがうすいのでわずかのひかるつぶすなわちほししかみえないのでしょう。\n",
            "Response: せいねんはおまえたちのほうへまっていました。\n",
            "\n",
            "Input: こっちやこっちのかたはガラスがあついので、ひかるつぶすなわちほしがたくさんみえそのとおいのはぼうっとしろくみえるというこれがつまりきょうのぎんがのせつなのです。\n",
            "Response: ああ、あんまりいくらもうしました。\n",
            "\n",
            "Input: そんならこのレンズのおおきさがどれくらあるかまたそのなかのさまざまのほしについてはもうじかんですからこのつぎのりかのじかんにおはなします。\n",
            "Response: といいました。\n",
            "\n",
            "Input: ではこんにちはそのぎんがのおまつりなのですからみなさんはそとへでてよくそらをごらんなさい。\n",
            "Response: なんだかあったんだ。\n",
            "\n",
            "Input: ではここまでです。\n",
            "Response: せんせい、このおとこは、なんだか、まるであかくしているのでした。\n",
            "\n",
            "Input: ほんやノートをおしまいなさい。\n",
            "Response: それでもそのときはすこしおおきなこえで、いきなりおかしいようになっていました。\n",
            "\n",
            "Input: そしてきょうしつなかはしばらくつくえのふたをあけたりしめたりほんをおもねたりするおとがいっぱいでしたがまもなくみんなはきちんとたってれいをするときょうしつをでました。\n",
            "Response: そしてしまいました。\n",
            "\n",
            "Input: に、かっぱんところジョバンニががっこうのもんをでるとき、おなじくのしちはちにんはいえへかえらずカムパネルラをまんなかにしてこうていのすみのさくらのきのところにあつまっていました。\n",
            "Response: それでもそのまんなかにはいってきました。\n",
            "\n",
            "Input: それはこんやのほしまつりにあおいあかりをこしらえてかわへながすからすうりをとりにいくそうだんらしかったのです。\n",
            "Response: それでもそのときは、すこしいちろうがあったのです。\n",
            "\n",
            "Input: けれどもジョバンニはてをおおきくふってどしどしがっこうのもんをでてきました。\n",
            "Response: そしてしまいました。\n",
            "\n",
            "Input: するとまちのいえいえではこんやのぎんがのまつりにいちいのはのたまをつるしたりひのきのえだにあかりをつけたりいろいろしたくをしているのでした。\n",
            "Response: それはどうしてもいいんだ。\n",
            "\n",
            "Input: いえへはかえらずジョバンニがまちをみつまってあるおおきなかっぱんところにはいってすぐいりぐちのけいさんだいにいただぶだぶのしろいシャツをきたにんにおじぎをしてジョバンニはくつをぬいでのぼりますと、つきあたりのおおきなとびらをあけました。\n",
            "Response: それからあのこどものはなしをとりました。\n",
            "\n",
            "Input: なかにはまだひるなのにでんとうがついてたくさんのりんてんうつわがばたりばたりとまわり、きれであたまをしばったりラムプシェードをかけたりしたにんたちが、なにかうたうようによんだりかぞえたりしながらたくさんはたらいていりました。\n",
            "Response: それでもそれはどうしてもいいました。\n",
            "\n",
            "Input: ジョバンニはすぐいりぐちからさんばんめのたかいすぐるこにすわったにんのところへいっておじぎをしました。\n",
            "Response: そのときぼくたちのなかでは、おまえたちのこのこはせいさくをみているのでした。\n",
            "\n",
            "Input: そのにんはしばらくたなをさがしてから、これだけひろっていけるかね。\n",
            "Response: そうだ。\n",
            "\n",
            "Input: といいながら、いちまいのかみきれをわたしました。\n",
            "Response: そこでカンかえるはまたさぶろうはまたにちぱちぱちぱちぱちぱちぱちぱちぱちぱちぱちぱちぱちぱちぱちぱちぱちぱちぱちぱちぱちぱちぱちぱちぱちぱちぱちぱちぱちぱちぱちぱちぱちぱちぱちぱちぱちぱちぱちぱちぱちぱちぱちぱちぱちぱちぱちぱちぱちぱちぱちぱちぱちぱちぱち\n",
            "\n",
            "Input: ジョバンニはそのにんのすぐるこのあしもとからひとつのちいさなひらたいはこをとりだしてむうのでんとうのたくさんついた、たてかけてあるかべのすみのところへしゃがみこむとちいさなピンセットでまるであわつぶぐらいのかつじをつぎからつぎとひろいはじめました。\n",
            "Response: そしてあのときのにんたちは、このにんのしゅじんは、まるであかいしゃしんしゃしたいのです。\n",
            "\n",
            "Input: あおいむねあてをしたにんがジョバンニのうしろをとうりながら、よう、むしめがねくん、おはやう。\n",
            "Response: といいました。\n",
            "\n",
            "Input: といいますと、ちかくのしごにんのにんたちがこえもたてずこっちもむかずにれいくわらいました。\n",
            "Response: そしてそのとき、すこしおおきなこえで、あのこどものはなしをしょうめんにいってしまいました。\n",
            "\n",
            "Input: ジョバンニはなにべんもめをぬぐいながらかつじをだんだんひろいました。\n",
            "Response: そのとき、みんなは、またいっぽんのしゅじんがいいました。\n",
            "\n",
            "Input: ろくときがうってしばらくたったころ、ジョバンニはひろったかつじをいっぱいにいれたひらたいはこをもういちどてにもったかみきれとひきあわせてから、さっきのすぐるこのにんへもってきました。\n",
            "Response: そしてしまいました。\n",
            "\n",
            "Input: そのにんはだまってそれをうけとってかすかにうなずきました。\n",
            "Response: ブドリは、どこかですからないていました。\n",
            "\n",
            "Input: ジョバンニはおじぎをするととびらをあけてさっきのけいさんだいのところにきました。\n",
            "Response: そしてしまいました。\n",
            "\n",
            "Input: するとさっきのしろふくをきたにんがやっぱりだまってちいさなぎんかをひとつジョバンニにわたしました。\n",
            "Response: ホモイはそれをみつめていました。\n",
            "\n",
            "Input: ジョバンニはにわかにかおいろがよくなっていせいよくおじぎをするとだいのしたにおいたかばんをもっておもてへとびだしました。\n",
            "Response: そのとき、それからそのこのこのふたつのおおきなこえで、あかいにんが、すこしおおきなやつのなかに、あかいしゃしに、しろいせいのたかいところをみていました。\n",
            "\n",
            "Input: それからげんきよくくちぶえをふきながらパンやへよってパンのかいをひとつとかくざとうをひとふくろかいますといちもくさんにはしりだしました。\n",
            "Response: それから、すこしおおきなあおいろをひろげて、こんどはまたさぶろうはきょうきょうのほうへまっていました。\n",
            "\n",
            "Input: さん、いえジョバンニがせいよくかえってきたのは、あるうらまちのちいさないえでした。\n",
            "Response: それはもういちぺんにいってしまいました。\n",
            "\n",
            "Input: そのみつならんだいりぐちのいちばんひだりがわにはからばこにむらさきいろのケールやアスパラガスがうえてあってちいさなふたつのまどにはにちおおいがくだりたままになっていました。\n",
            "Response: そしてそのおとこは、なにかおおきなかえりです。\n",
            "\n",
            "Input: おかあさん。\n",
            "Response: これはもういちぺんにかいてあるんだ。\n",
            "\n",
            "Input: いまかえったよ。\n",
            "Response: いいね。\n",
            "\n",
            "Input: ぐあいわるくなかったの。\n",
            "Response: ジョバンニは、それから、このまえにはいってきました。\n",
            "\n",
            "Input: ジョバンニはくつをぬぎながらいいました。\n",
            "Response: ぼくはそのことをいっているんだ。\n",
            "\n",
            "Input: ああ、ジョバンニ、おしごとがひどかったろう。\n",
            "Response: ああ、こんどはぼくたちのほうへいってるんだ。\n",
            "\n",
            "Input: こんにちはすずしくてね。\n",
            "Response: いちろうがまたさぶろうはまたあおいろをひろっていました。\n",
            "\n",
            "Input: わたしはずうっとぐあいがいいよ。\n",
            "Response: ところがありません。\n",
            "\n",
            "Input: ジョバンニはげんかんをあっていきますとジョバンニのおかあさんがすぐいりぐちのしつにしろいはばをおおってねんでいたのでした。\n",
            "Response: そのときあしのきたのは、あかいのひがしのようになって、あのおとこのこをかけて、いきなり、こんなことをいいました。\n",
            "\n",
            "Input: ジョバンニはまどをあけました。\n",
            "Response: どうしてもうしました。\n",
            "\n",
            "Input: おかあさん。\n",
            "Response: いいか。\n",
            "\n",
            "Input: こんにちはかくざとうをかってきたよ。\n",
            "Response: ああ、こういちはいいました。\n",
            "\n",
            "Input: ぎゅうにゅうにいれてあげようとおもって。\n",
            "Response: ああ、こんどはぼくたちのほうへいってるんだ。\n",
            "\n",
            "Input: ああ、おまえさきにおあがり。\n",
            "Response: あしたのはらのかわのみずをはいているのです。\n",
            "\n",
            "Input: あたしはまだほしくないんだから。\n",
            "Response: おかあさん。\n",
            "\n",
            "Input: おかあさん。\n",
            "Response: ぼくはもういちぺんにいったんだ。\n",
            "\n",
            "Input: ねえさんはいつかえったの。\n",
            "Response: ひらりとりのにんが、こんなことをいいました。\n",
            "\n",
            "Input: ああさんじころかえったよ。\n",
            "Response: おかあさん。\n",
            "\n",
            "Input: みんなそこらをしてくれてね。\n",
            "Response: またさぶろうはすこしいきました。\n",
            "\n",
            "Input: おかあさんのぎゅうにゅうはきていないんだろうか。\n",
            "Response: ぼくはそこでこういちはいました。\n",
            "\n",
            "Input: こなかったろうかねえ。\n",
            "Response: ぼくはもういちばんはいいました。\n",
            "\n",
            "Input: ぼくいってとってこよう。\n",
            "Response: そしてしまいました。\n",
            "\n",
            "Input: あああたしはゆっくりでいいんだからおまえさきにおあがり、ねえさんがね、トマトでなにかこしらえてそこへおいていったよ。\n",
            "Response: ところがそのときはすこしあるいているようになりました。\n",
            "\n",
            "Input: ではぼくたべよう。\n",
            "Response: ジョバンニは、それをみつめて、ちょうどしました。\n",
            "\n",
            "Input: ジョバンニはまどのところからトマトのさらをとってパンといっしょにしばらくむしゃむしゃたべました。\n",
            "Response: そのときぼくは、あんなにんがあるいているんだ。\n",
            "\n",
            "Input: ねえおかあさん。\n",
            "Response: ぼくはそこですからない。\n",
            "\n",
            "Input: ぼくおとうさんはきっとかんもなくかえってくるとおもうよ。\n",
            "Response: ああ、あかいはいってきた。\n",
            "\n",
            "Input: あああたしもそうおもう。\n",
            "Response: けれどもそれから？それから？それから？それから？あとは？それから？それから？それから？それから？それから？それから？それから？それから？それから？あとはどうだい。\n",
            "\n",
            "Input: けれどもおまえはどうしてそうおもうの。\n",
            "Response: それから？それから？それから？それから？それから？それから？それから？それから？あとは？それから？それから？それから？それから？それから？それから？それから？それから？それから？それから？それから？それから？それから？それから？それから？それから？それから\n",
            "\n",
            "Input: だってけさのしんぶんにこんねんはきたのほうのりょうはだいへんよかったとかいてあったよ。\n",
            "Response: ぼくはそこでおいで。\n",
            "\n",
            "Input: ああだけどねえ、おとうさんはりょうへでていないかもしれない。\n",
            "Response: いちろうがまたさぶろうはすこしおおきなかえりをみました。\n",
            "\n",
            "Input: きっとでているよ。\n",
            "Response: そうだ。\n",
            "\n",
            "Input: おとうさんがかんごくへいるようなそんなわるいことをしたはずがないんだ。\n",
            "Response: おかあさんがいいました。\n",
            "\n"
          ]
        }
      ],
      "source": [
        "for i in range(100):  \n",
        "    x_in = x_encoder[i:i+1]  # 入力\n",
        "    responce = respond(x_in)  # 返答\n",
        "    print(\"Input:\", x_sentences[i])\n",
        "    print(\"Response:\", responce)\n",
        "    print()"
      ]
    },
    {
      "cell_type": "markdown",
      "metadata": {
        "id": "cfPrKt39QgSB"
      },
      "source": [
        "小説内の文章に対して、しばしばそれらしい返答ができていますね。  \n",
        "中には、意味がよく分からない返答もあります。\n",
        "\n",
        "次のレクチャーでは、小説外の文章に対してモデルがどのように返答するのか検証していきます。"
      ]
    },
    {
      "cell_type": "markdown",
      "metadata": {
        "id": "yZUYmQ63QgSC"
      },
      "source": [
        "## 課題\n",
        "上記のセルでbetaの値を変更し、返答の文章がどのように変化するか確かめてみましょう。"
      ]
    },
    {
      "cell_type": "code",
      "execution_count": null,
      "metadata": {
        "collapsed": true,
        "id": "mV87AS4vQgSC"
      },
      "outputs": [],
      "source": [
        ""
      ]
    }
  ],
  "metadata": {
    "kernelspec": {
      "display_name": "Python 3",
      "language": "python",
      "name": "python3"
    },
    "language_info": {
      "codemirror_mode": {
        "name": "ipython",
        "version": 3
      },
      "file_extension": ".py",
      "mimetype": "text/x-python",
      "name": "python",
      "nbconvert_exporter": "python",
      "pygments_lexer": "ipython3",
      "version": "3.5.4"
    },
    "colab": {
      "name": "learn_dialogue.ipynb",
      "provenance": [],
      "include_colab_link": true
    },
    "accelerator": "GPU",
    "gpuClass": "standard"
  },
  "nbformat": 4,
  "nbformat_minor": 0
}