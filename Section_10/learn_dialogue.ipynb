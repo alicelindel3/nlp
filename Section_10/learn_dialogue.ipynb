{
  "cells": [
    {
      "cell_type": "markdown",
      "metadata": {
        "id": "view-in-github",
        "colab_type": "text"
      },
      "source": [
        "<a href=\"https://colab.research.google.com/github/alicelindel3/nlp/blob/main/Section_10/learn_dialogue.ipynb\" target=\"_parent\"><img src=\"https://colab.research.google.com/assets/colab-badge.svg\" alt=\"Open In Colab\"/></a>"
      ]
    },
    {
      "cell_type": "markdown",
      "metadata": {
        "id": "W-SnrPOgQgRR"
      },
      "source": [
        "# 対話の学習\n",
        "宮沢賢治の小説において、次の文章を予測できるようにSeq2Seqのモデルを訓練します。  \n",
        "これにより、賢治風の返答が生成できるようになります。"
      ]
    },
    {
      "cell_type": "markdown",
      "metadata": {
        "id": "85B-RAV9QgRh"
      },
      "source": [
        "## 使用する文字\n",
        "学習をなるべく簡単にするために、ひらがなとカタカナ、記号のみを使用します。  \n",
        "コーパスで使われていない文字の入力にも対応するために、全てのひらがなとカタカナを用意します。  \n",
        "また、それ以外の記号などについては、コーパスで使われているものを加えます。"
      ]
    },
    {
      "cell_type": "code",
      "execution_count": null,
      "metadata": {
        "id": "LeneeKcoQgRj"
      },
      "outputs": [],
      "source": [
        "import pickle\n",
        "\n",
        "hiragana = \"ぁあぃいぅうぇえぉおかがきぎくぐけげこごさざしじすずせぜそぞ\\\n",
        "ただちぢっつづてでとどなにぬねのはばぱひびぴふぶぷへべぺほぼぽ\\\n",
        "まみむめもゃやゅゆょよらりるれろゎわゐゑをん\"\n",
        "\n",
        "katakana = \"ァアィイゥウェエォオカガキギクグケゲコゴサザシジスズセゼソゾ\\\n",
        "タダチヂッツヅテデトドナニヌネノハバパヒビピフブプヘベペホボポ\\\n",
        "マミムメモャヤュユョヨラリルレロヮワヰヱヲンヴ\"\n",
        "\n",
        "chars = hiragana + katakana\n",
        "\n",
        "with open(\"kana_kenji.txt\", mode=\"r\", encoding=\"utf-8\") as f:  # 前回保存したファイル\n",
        "    text = f.read()\n",
        "    \n",
        "for char in text:  # ひらがな、カタカナ以外でコーパスに使われている文字を追加\n",
        "    if char not in chars:\n",
        "        chars += char\n",
        "        \n",
        "chars += \"\\t\\n\"  # タブと改行を追加\n",
        "        \n",
        "chars_list = sorted(list(chars))  # 文字列をリストに変換してソートする\n",
        "print(chars_list)\n",
        "\n",
        "with open(\"kana_chars.pickle\", mode=\"wb\") as f:  # pickleで保存\n",
        "    pickle.dump(chars_list, f)"
      ]
    },
    {
      "cell_type": "markdown",
      "metadata": {
        "id": "rHGAjwMDQgRp"
      },
      "source": [
        "## 文字のベクトル化\n",
        "各文字をone-hot表現で表し、encoderへの入力、decoderへの入力、decoderの正解を作成します。  \n",
        "各文章はそれぞれ長さが違いますが、文章の終了後は全て0のベクトルで埋めます。  \n",
        "学習効率を考慮し、長すぎる文章はカットします。"
      ]
    },
    {
      "cell_type": "code",
      "execution_count": null,
      "metadata": {
        "id": "iZI6lFGsQgRq"
      },
      "outputs": [],
      "source": [
        "import numpy as np\n",
        "\n",
        "# インデックスと文字で辞書を作成\n",
        "char_indices = {}  # 文字がキーでインデックスが値\n",
        "for i, char in enumerate(chars_list):\n",
        "    char_indices[char] = i\n",
        "indices_char = {}  # インデックスがキーで文字が値\n",
        "for i, char in enumerate(chars_list):\n",
        "    indices_char[i] = char\n",
        "    \n",
        "seperator = \"。\"\n",
        "sentence_list = text.split(seperator) \n",
        "sentence_list.pop() \n",
        "sentence_list = [x+seperator for x in sentence_list]\n",
        "\n",
        "max_sentence_length = 128  # 文章の最大長さ。これより長い文章はカットされる。\n",
        "sentence_list = [sentence for sentence in sentence_list if len(sentence) <= max_sentence_length]  # 長すぎる文章のカット\n",
        "\n",
        "n_char = len(chars_list)  # 文字の種類の数\n",
        "n_sample = len(sentence_list) - 1  # サンプル数\n",
        "\n",
        "x_sentences = []  # 入力の文章\n",
        "t_sentences = []  # 正解の文章\n",
        "for i in range(n_sample):\n",
        "    x_sentences.append(sentence_list[i])\n",
        "    t_sentences.append(\"\\t\" + sentence_list[i+1] + \"\\n\")  # 正解は先頭にタブ、末尾に改行を加える\n",
        "max_length_x = max_sentence_length  # 入力文章の最大長さ\n",
        "max_length_t = max_sentence_length + 2  # 正解文章の最大長さ\n",
        "\n",
        "x_encoder = np.zeros((n_sample, max_length_x, n_char), dtype=np.bool)  # encoderへの入力\n",
        "x_decoder = np.zeros((n_sample, max_length_t, n_char), dtype=np.bool)  # decoderへの入力\n",
        "t_decoder = np.zeros((n_sample, max_length_t, n_char), dtype=np.bool)  # decoderの正解\n",
        "\n",
        "for i in range(n_sample):\n",
        "    x_sentence = x_sentences[i]\n",
        "    t_sentence = t_sentences[i]\n",
        "    for j, char in enumerate(x_sentence):\n",
        "        x_encoder[i, j, char_indices[char]] = 1  # encoderへの入力をone-hot表現で表す\n",
        "    for j, char in enumerate(t_sentence):\n",
        "        x_decoder[i, j, char_indices[char]] = 1  # decoderへの入力をone-hot表現で表す\n",
        "        if j > 0:  # 正解は入力より1つ前の時刻のものにする\n",
        "            t_decoder[i, j-1, char_indices[char]] = 1\n",
        "            \n",
        "print(x_encoder.shape)"
      ]
    },
    {
      "cell_type": "markdown",
      "metadata": {
        "id": "C5ssHXL3QgRu"
      },
      "source": [
        "## 各設定\n",
        "学習に関する各設定です。  \n",
        "「早期終了」により学習を自動ストップするので、エポック数は多めに設定します。"
      ]
    },
    {
      "cell_type": "code",
      "execution_count": null,
      "metadata": {
        "collapsed": true,
        "id": "iLFhlUCXQgRv"
      },
      "outputs": [],
      "source": [
        "batch_size = 32\n",
        "epochs = 1000\n",
        "n_mid = 256  # 中間層のニューロン数"
      ]
    },
    {
      "cell_type": "markdown",
      "metadata": {
        "id": "dMvoqAfUQgRx"
      },
      "source": [
        "## 学習用モデルの構築\n",
        "学習用のSeq2Seqモデルを構築します。  \n",
        "今回は、前のセクションでより自然な文章の作成につながったGRUを使います。  \n",
        "また、入力の直後にMasking層を挟みます。\n",
        "これにより、全ての要素が0であるベクトルの入力は無視されます。  \n",
        "\n",
        "GRU層にはdropoutを設定し、ニューロンをランダムに無効にすることで過学習対策をします。  \n",
        "過学習とは、モデルが訓練データに過剰に適応してしまい、未知のデータに対して機能しなくなってしまうことです。"
      ]
    },
    {
      "cell_type": "code",
      "execution_count": null,
      "metadata": {
        "id": "SVkWnhVJQgRz"
      },
      "outputs": [],
      "source": [
        "from keras.models import Model\n",
        "from keras.layers import Dense, GRU, Input, Masking\n",
        "\n",
        "encoder_input = Input(shape=(None, n_char))\n",
        "encoder_mask = Masking(mask_value=0)  # 全ての要素が0であるベクトルの入力は無視する\n",
        "encoder_masked = encoder_mask(encoder_input)\n",
        "encoder_lstm = GRU(n_mid, dropout=0.2, recurrent_dropout=0.2, return_state=True)  # dropoutを設定し、ニューロンをランダムに無効にする\n",
        "encoder_output, encoder_state_h = encoder_lstm(encoder_masked)\n",
        "\n",
        "decoder_input = Input(shape=(None, n_char))\n",
        "decoder_mask = Masking(mask_value=0)  # 全ての要素が0であるベクトルの入力は無視する\n",
        "decoder_masked = decoder_mask(decoder_input)\n",
        "decoder_lstm = GRU(n_mid, dropout=0.2, recurrent_dropout=0.2, return_sequences=True, return_state=True)  # dropoutを設定\n",
        "decoder_output, _ = decoder_lstm(decoder_masked, initial_state=encoder_state_h)  # encoderの状態を初期状態にする\n",
        "decoder_dense = Dense(n_char, activation='softmax')\n",
        "decoder_output = decoder_dense(decoder_output)\n",
        "\n",
        "model = Model([encoder_input, decoder_input], decoder_output)\n",
        "\n",
        "model.compile(loss=\"categorical_crossentropy\", optimizer=\"rmsprop\")\n",
        "print(model.summary())"
      ]
    },
    {
      "cell_type": "markdown",
      "metadata": {
        "id": "a44BKpNXQgR1"
      },
      "source": [
        "## 学習\n",
        "構築したSeq2Seqのモデルを使って、学習を行います。  \n",
        "今回は、**早期終了**を設定します。  \n",
        "コールバックにEarlyStoppingを設定することで、学習を自動で終了させることができます。  \n",
        "誤差に改善が見られなくなってからpatianceで設定したエポック数が経過すると、学習は終了となります。  \n",
        "お手元の環境にもよりますが学習には数時間程度必要ですので、早く結果を確認したい方はpatienceの値を小さくしましょう。  "
      ]
    },
    {
      "cell_type": "code",
      "execution_count": null,
      "metadata": {
        "id": "bBZW2lqFQgR3"
      },
      "outputs": [],
      "source": [
        "from keras.callbacks import EarlyStopping \n",
        "\n",
        "# val_lossに改善が見られなくなってから、30エポックで学習は終了\n",
        "early_stopping = EarlyStopping(monitor=\"val_loss\", patience=30) \n",
        "\n",
        "history = model.fit([x_encoder, x_decoder], t_decoder,\n",
        "                     batch_size=batch_size,\n",
        "                     epochs=epochs,\n",
        "                     validation_split=0.1,  # 10%は検証用\n",
        "                     callbacks=[early_stopping])"
      ]
    },
    {
      "cell_type": "markdown",
      "metadata": {
        "id": "2h5gj7sSQgR4"
      },
      "source": [
        "## 学習の推移\n",
        "誤差の推移を確認します。"
      ]
    },
    {
      "cell_type": "code",
      "execution_count": null,
      "metadata": {
        "id": "ZyrUTnQxQgR5"
      },
      "outputs": [],
      "source": [
        "%matplotlib inline\n",
        "import matplotlib.pyplot as plt\n",
        "\n",
        "loss = history.history['loss']\n",
        "val_loss = history.history['val_loss']\n",
        "\n",
        "plt.plot(np.arange(len(loss)), loss)\n",
        "plt.plot(np.arange(len(val_loss)), val_loss)\n",
        "plt.show()"
      ]
    },
    {
      "cell_type": "markdown",
      "metadata": {
        "id": "ztVtklEkQgR6"
      },
      "source": [
        "検証用データの誤差は途中で改善が止まっていますね。  \n",
        "もう少し早めに学習を終了しても良さそうです。  \n",
        "誤差の値自体はあまり小さくなっていませんが、とりあえず対話文の生成を試してみましょう。"
      ]
    },
    {
      "cell_type": "markdown",
      "metadata": {
        "id": "KAh4z8g2QgR7"
      },
      "source": [
        "## 予測用モデルの構築\n",
        "学習済みのオブジェクトから、encoder、decoderのモデルを個別に構築します。    \n",
        "encoderは入力を受け取って状態を返し、decoderは入力と状態を受け取って出力と状態を返すようにします。  \n",
        "構築したモデルは、後のレクチャーで使えるように保存しておきます。  "
      ]
    },
    {
      "cell_type": "code",
      "execution_count": null,
      "metadata": {
        "id": "Z4fqCWnRQgR7"
      },
      "outputs": [],
      "source": [
        "# encoderのモデル\n",
        "encoder_model = Model(encoder_input, encoder_state_h)\n",
        "\n",
        "# decoderのモデル\n",
        "decoder_state_in_h = Input(shape=(n_mid,))\n",
        "decoder_state_in = [decoder_state_in_h]\n",
        "\n",
        "decoder_output, decoder_state_h = decoder_lstm(decoder_input,\n",
        "                                               initial_state=decoder_state_in_h)\n",
        "decoder_output = decoder_dense(decoder_output)\n",
        "\n",
        "decoder_model = Model([decoder_input] + decoder_state_in,\n",
        "                      [decoder_output, decoder_state_h])\n",
        "\n",
        "# モデルの保存\n",
        "encoder_model.save('encoder_model.h5')\n",
        "decoder_model.save('decoder_model.h5')"
      ]
    },
    {
      "cell_type": "markdown",
      "metadata": {
        "id": "CMVaa6NXQgR-"
      },
      "source": [
        "## 返答作成用の関数\n",
        "入力を出力に変換し、返答を作成するための関数を設定します。  \n",
        "decoderでは、各時刻ごとに予測を行い、出力と状態を次の時刻に渡します。  \n",
        "decoderの出力を確率として捉え、その確率に従ってサンプリングを行うので実行するたびにやや異なる文章が生成されます。"
      ]
    },
    {
      "cell_type": "code",
      "execution_count": null,
      "metadata": {
        "collapsed": true,
        "id": "2yl1LHBCQgR-"
      },
      "outputs": [],
      "source": [
        "def respond(input_data, beta=5):\n",
        "    state_value = encoder_model.predict(input_data)\n",
        "    y_decoder = np.zeros((1, 1, n_char))  # decoderの出力を格納する配列\n",
        "    y_decoder[0][0][char_indices[\"\\t\"]] = 1  # decoderの最初の入力はタブ。one-hot表現にする。\n",
        "\n",
        "    respond_sentence = \"\"  # 返答の文字列\n",
        "    while True:\n",
        "        y, h = decoder_model.predict([y_decoder, state_value])\n",
        "        p_power = y[0][0] ** beta  # 確率分布の調整\n",
        "        next_index = np.random.choice(len(p_power), p=p_power/np.sum(p_power)) \n",
        "        next_char = indices_char[next_index]  # 次の文字\n",
        "\n",
        "        if (next_char == \"\\n\" or len(respond_sentence) >= max_length_x):\n",
        "            break  # 次の文字が改行のとき、もしくは最大文字数を超えたときは終了\n",
        "            \n",
        "        respond_sentence += next_char\n",
        "        y_decoder = np.zeros((1, 1, n_char))  # 次の時刻の入力\n",
        "        y_decoder[0][0][next_index] = 1\n",
        "\n",
        "        state_value = h  # 次の時刻の状態\n",
        "\n",
        "    return respond_sentence"
      ]
    },
    {
      "cell_type": "markdown",
      "metadata": {
        "id": "2RSuhjErQgR_"
      },
      "source": [
        "## 動作の確認\n",
        "訓練データの最初の100文を使って、どのような返答が返ってくるかを確かめます。"
      ]
    },
    {
      "cell_type": "code",
      "execution_count": null,
      "metadata": {
        "id": "bET5s6tWQgSA"
      },
      "outputs": [],
      "source": [
        "for i in range(100):  \n",
        "    x_in = x_encoder[i:i+1]  # 入力\n",
        "    responce = respond(x_in)  # 返答\n",
        "    print(\"Input:\", x_sentences[i])\n",
        "    print(\"Response:\", responce)\n",
        "    print()"
      ]
    },
    {
      "cell_type": "markdown",
      "metadata": {
        "id": "cfPrKt39QgSB"
      },
      "source": [
        "小説内の文章に対して、しばしばそれらしい返答ができていますね。  \n",
        "中には、意味がよく分からない返答もあります。\n",
        "\n",
        "次のレクチャーでは、小説外の文章に対してモデルがどのように返答するのか検証していきます。"
      ]
    },
    {
      "cell_type": "markdown",
      "metadata": {
        "id": "yZUYmQ63QgSC"
      },
      "source": [
        "## 課題\n",
        "上記のセルでbetaの値を変更し、返答の文章がどのように変化するか確かめてみましょう。"
      ]
    },
    {
      "cell_type": "code",
      "execution_count": null,
      "metadata": {
        "collapsed": true,
        "id": "mV87AS4vQgSC"
      },
      "outputs": [],
      "source": [
        ""
      ]
    }
  ],
  "metadata": {
    "kernelspec": {
      "display_name": "Python 3",
      "language": "python",
      "name": "python3"
    },
    "language_info": {
      "codemirror_mode": {
        "name": "ipython",
        "version": 3
      },
      "file_extension": ".py",
      "mimetype": "text/x-python",
      "name": "python",
      "nbconvert_exporter": "python",
      "pygments_lexer": "ipython3",
      "version": "3.5.4"
    },
    "colab": {
      "name": "learn_dialogue.ipynb",
      "provenance": [],
      "include_colab_link": true
    }
  },
  "nbformat": 4,
  "nbformat_minor": 0
}